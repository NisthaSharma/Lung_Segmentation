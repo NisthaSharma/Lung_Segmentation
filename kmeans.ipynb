{
  "nbformat": 4,
  "nbformat_minor": 0,
  "metadata": {
    "colab": {
      "name": "Untitled15.ipynb",
      "provenance": []
    },
    "kernelspec": {
      "name": "python3",
      "display_name": "Python 3"
    },
    "language_info": {
      "name": "python"
    }
  },
  "cells": [
    {
      "cell_type": "code",
      "execution_count": 1,
      "metadata": {
        "id": "6oOmrQEKIBXu"
      },
      "outputs": [],
      "source": [
        "import numpy as np\n",
        "import cv2"
      ]
    },
    {
      "cell_type": "code",
      "source": [
        "img = cv2.imread('lung.jpeg')\n",
        "img2 = img.reshape((-1,3))\n"
      ],
      "metadata": {
        "id": "GWou4Vz8JXxN"
      },
      "execution_count": 2,
      "outputs": []
    },
    {
      "cell_type": "code",
      "source": [
        "img2 = np.float32(img2)"
      ],
      "metadata": {
        "id": "8s_ZBwNLJov7"
      },
      "execution_count": 3,
      "outputs": []
    },
    {
      "cell_type": "code",
      "source": [
        "criteria = (cv2.TERM_CRITERIA_EPS + cv2.TERM_CRITERIA_MAX_ITER, 10, 1.0)\n"
      ],
      "metadata": {
        "id": "F-BQiOHEJ0RC"
      },
      "execution_count": 4,
      "outputs": []
    },
    {
      "cell_type": "code",
      "source": [
        "k =4\n",
        "attempts = 10"
      ],
      "metadata": {
        "id": "Gb7U553AKCFd"
      },
      "execution_count": 10,
      "outputs": []
    },
    {
      "cell_type": "code",
      "source": [
        "ret,label,center=cv2.kmeans(img2,k,None,criteria,10,cv2.KMEANS_PP_CENTERS)\n",
        "center = np.uint(center)\n",
        "res = center[label.flatten()]\n"
      ],
      "metadata": {
        "id": "9cR8ezfhKJcl"
      },
      "execution_count": 11,
      "outputs": []
    },
    {
      "cell_type": "code",
      "source": [
        "res2 = res.reshape((img.shape))\n",
        "cv2.imwrite('segmented.jpeg',res2)"
      ],
      "metadata": {
        "colab": {
          "base_uri": "https://localhost:8080/"
        },
        "id": "BsPBPf25KqrZ",
        "outputId": "9f376d52-004b-4caf-9033-c49198859718"
      },
      "execution_count": 12,
      "outputs": [
        {
          "output_type": "execute_result",
          "data": {
            "text/plain": [
              "True"
            ]
          },
          "metadata": {},
          "execution_count": 12
        }
      ]
    },
    {
      "cell_type": "code",
      "source": [
        ""
      ],
      "metadata": {
        "id": "2rHXwytuK_zn"
      },
      "execution_count": null,
      "outputs": []
    }
  ]
}